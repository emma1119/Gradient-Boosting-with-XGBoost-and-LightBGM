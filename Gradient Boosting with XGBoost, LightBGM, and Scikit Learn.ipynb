{
 "cells": [
  {
   "cell_type": "markdown",
   "id": "74d91c90",
   "metadata": {},
   "source": [
    "# Why XGBoost\n",
    "XGBoost has become the de-facto algorithm for winning competitions and more and more popular for enterprise applications simply because it is extraemely powerful. The development start with AdaBoost(weighted observations, ACR) to XGBoost and LightGBM, which takes less time to train comparing to XGBoost. \n",
    "\n",
    "## XGBoost vs LightGBM\n",
    "Both techniques are based on decision tree algorithms. The biggest difference is that LightBGM splits the tree leaf with the best fit whereas XGBoost and other boosting algorithms split the tree level. \n",
    "\n",
    "LightGBM is faster, use less memory, more accurate than other boosting (be careful of overfitting), compatible with large dataset, parallel learning supported\n",
    "\n",
    "\n",
    "### GROSS & EFB\n",
    "1) LightBGM leverage 'GROSS' -gradiant based one-side sampling, which focuz on training examples result in larger gradient\n",
    "2) it also uses 'EFB'-exclusive feature bunding, which is an automatic feature selection to bundle sparse mutually exclusive features to reduce the number of features thus improve the speed. \n",
    "\n",
    "This excercise is to explore and compare the gradiant boosting techniques with the Python packagse with real life dataset.\n",
    "\n",
    "\n",
    "Relevant blogs links:\n",
    "\n",
    "https://machinelearningmastery.com/gentle-introduction-gradient-boosting-algorithm-machine-learning/\n",
    "https://www.analyticsvidhya.com/blog/2017/06/which-algorithm-takes-the-crown-light-gbm-vs-xgboost/\n",
    "https://machinelearningmastery.com/gradient-boosting-with-scikit-learn-xgboost-lightgbm-and-catboost/"
   ]
  },
  {
   "cell_type": "code",
   "execution_count": null,
   "id": "9591e750",
   "metadata": {},
   "outputs": [],
   "source": []
  }
 ],
 "metadata": {
  "kernelspec": {
   "display_name": "Python 3 (ipykernel)",
   "language": "python",
   "name": "python3"
  },
  "language_info": {
   "codemirror_mode": {
    "name": "ipython",
    "version": 3
   },
   "file_extension": ".py",
   "mimetype": "text/x-python",
   "name": "python",
   "nbconvert_exporter": "python",
   "pygments_lexer": "ipython3",
   "version": "3.9.7"
  }
 },
 "nbformat": 4,
 "nbformat_minor": 5
}
